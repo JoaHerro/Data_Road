{
 "cells": [
  {
   "cell_type": "markdown",
   "id": "80a18828",
   "metadata": {},
   "source": [
    "# Pandas: Exporting DataFrames\n",
    "\n",
    "* df.toexcel()\n",
    "* df.to_csv()\n"
   ]
  },
  {
   "cell_type": "code",
   "execution_count": 1,
   "id": "62e61eef",
   "metadata": {},
   "outputs": [],
   "source": [
    "# Importing Libraries\n",
    "import pandas as pd\n",
    "from datasets import load_dataset\n",
    "import matplotlib.pyplot as plt\n",
    "\n",
    "# loading data\n",
    "dataset = load_dataset(\"lukebarousse/data_jobs\")\n",
    "df = dataset['train'].to_pandas()\n",
    "\n",
    "# Data cleaning\n",
    "df['job_posted_date'] = pd.to_datetime(df['job_posted_date'])"
   ]
  },
  {
   "cell_type": "code",
   "execution_count": null,
   "id": "f56c0f36",
   "metadata": {},
   "outputs": [],
   "source": []
  }
 ],
 "metadata": {
  "kernelspec": {
   "display_name": "base",
   "language": "python",
   "name": "python3"
  },
  "language_info": {
   "codemirror_mode": {
    "name": "ipython",
    "version": 3
   },
   "file_extension": ".py",
   "mimetype": "text/x-python",
   "name": "python",
   "nbconvert_exporter": "python",
   "pygments_lexer": "ipython3",
   "version": "3.12.7"
  }
 },
 "nbformat": 4,
 "nbformat_minor": 5
}
