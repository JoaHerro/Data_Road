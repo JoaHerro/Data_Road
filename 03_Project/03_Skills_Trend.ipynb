{
 "cells": [
  {
   "cell_type": "markdown",
   "id": "a60cbbfa",
   "metadata": {},
   "source": [
    "# How Are in-demand skills trending for Data Analysts?\n",
    "\n",
    "Methodology\n",
    "\n",
    "1. Aggregate skill counts monthly\n",
    "2. Re-analyze based on percentage of total jobs\n",
    "3. Plot the monthly skill demand"
   ]
  },
  {
   "cell_type": "code",
   "execution_count": 1,
   "id": "1d63f662",
   "metadata": {},
   "outputs": [],
   "source": [
    "# Importing Libraries\n",
    "import ast\n",
    "import pandas as pd\n",
    "from datasets import load_dataset\n",
    "import matplotlib.pyplot as plt\n",
    "import seaborn as sns\n",
    "\n",
    "#! pip install adjustText\n",
    "#from adjustText import adjust_text\n",
    "\n",
    "\n",
    "# loading data\n",
    "dataset = load_dataset(\"lukebarousse/data_jobs\")\n",
    "df = dataset['train'].to_pandas()\n",
    "\n",
    "# Data cleaning\n",
    "df['job_posted_date'] = pd.to_datetime(df['job_posted_date'])\n",
    "df['job_skills'] = df['job_skills'].apply(lambda x: ast.literal_eval(x) if pd.notna(x) else x)"
   ]
  },
  {
   "cell_type": "code",
   "execution_count": null,
   "id": "9d7223ad",
   "metadata": {},
   "outputs": [],
   "source": [
    "df_DA_US = df[df['job_title'] == 'Data Analyst']"
   ]
  }
 ],
 "metadata": {
  "kernelspec": {
   "display_name": "base",
   "language": "python",
   "name": "python3"
  },
  "language_info": {
   "codemirror_mode": {
    "name": "ipython",
    "version": 3
   },
   "file_extension": ".py",
   "mimetype": "text/x-python",
   "name": "python",
   "nbconvert_exporter": "python",
   "pygments_lexer": "ipython3",
   "version": "3.12.7"
  }
 },
 "nbformat": 4,
 "nbformat_minor": 5
}
